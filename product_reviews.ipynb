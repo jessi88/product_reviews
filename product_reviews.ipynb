{
 "cells": [
  {
   "cell_type": "markdown",
   "id": "bd646ed8",
   "metadata": {},
   "source": [
    "# Project Review Project Analysis\n",
    "## Author: Jessica Bosch\n",
    "## Last Update: May 21, 2021"
   ]
  },
  {
   "cell_type": "markdown",
   "id": "d431e114",
   "metadata": {},
   "source": [
    "## Description\n",
    "\n",
    "Help a leading mobile brand understand the voice of the customer by analyzing the reviews of their product on Amazon and the topics that customers are talking about. You will perform topic modeling on specific parts of speech. You'll finally interpret the emerging topics.\n",
    "\n",
    "**Problem Statement:**\n",
    "A popular mobile phone brand, Lenovo has launched their budget smartphone in the Indian market. The client wants to understand the VOC (voice of the customer) on the product. This will be useful to not just evaluate the current product, but to also get some direction for developing the product pipeline. The client is particularly interested in the different aspects that customers care about. Product reviews by customers on a leading e-commerce site should provide a good view.\n",
    "\n",
    "**Domain:** Amazon reviews for a leading phone brand\n",
    "\n",
    "**Analysis to be done:** POS tagging, topic modeling using LDA, and topic interpretation\n",
    "\n",
    "**Content:**\n",
    "- Dataset: ‘K8 Reviews v0.2.csv’\n",
    "- Columns:\n",
    "    - Sentiment: The sentiment against the review (4,5 star reviews are positive, 1,2 are negative)\n",
    "    - Reviews: The main text of the review\n",
    "\n",
    "**Steps to perform:**\n",
    "- Discover the topics in the reviews and present it to business in a consumable format. Employ techniques in syntactic processing and topic modeling.\n",
    "- Perform specific cleanup, POS tagging, and restricting to relevant POS tags, then, perform topic modeling using LDA. Finally, give business-friendly names to the topics and make a table for business.\n",
    "\n",
    "**Tasks:**\n",
    "1. Read the .csv file using Pandas. Take a look at the top few records.\n",
    "\n",
    "\n",
    "2. Normalize casings for the review text and extract the text into a list for easier manipulation.\n",
    "\n",
    "\n",
    "3. Tokenize the reviews using NLTKs word_tokenize function.\n",
    "\n",
    "\n",
    "4. Perform parts-of-speech tagging on each sentence using the NLTK POS tagger.\n",
    "\n",
    "\n",
    "5. For the topic model, we should  want to include only nouns.\n",
    "    1. Find out all the POS tags that correspond to nouns.\n",
    "    2. Limit the data to only terms with these tags.\n",
    "\n",
    "\n",
    "6. Lemmatize. \n",
    "    1. Different forms of the terms need to be treated as one.\n",
    "    2. No need to provide POS tag to lemmatizer for now.\n",
    "\n",
    "\n",
    "7. Remove stopwords and punctuation (if there are any). \n",
    "\n",
    "\n",
    "8. Create a topic model using LDA on the cleaned-up data with 12 topics.\n",
    "    1. Print out the top terms for each topic.\n",
    "    2. What is the coherence of the model with the c_v metric?\n",
    "\n",
    "\n",
    "9. Analyze the topics through the business lens.\n",
    "    1. Determine which of the topics can be combined.\n",
    "\n",
    "\n",
    "10. Create topic model using LDA with what you think is the optimal number of topics\n",
    "    1. What is the coherence of the model?\n",
    "\n",
    "\n",
    "11. The business should  be able to interpret the topics.\n",
    "    1. Name each of the identified topics.\n",
    "    2. Create a table with the topic name and the top 10 terms in each to present to the  business."
   ]
  },
  {
   "cell_type": "code",
   "execution_count": 1,
   "id": "740011ed",
   "metadata": {},
   "outputs": [],
   "source": [
    "import pandas as pd\n",
    "import numpy as np\n",
    "\n",
    "import nltk\n",
    "from nltk.stem import WordNetLemmatizer\n",
    "from nltk.corpus import stopwords\n",
    "from string import punctuation\n",
    "\n",
    "from gensim.corpora.dictionary import Dictionary\n",
    "from gensim import models, similarities\n",
    "from gensim.models import CoherenceModel"
   ]
  },
  {
   "cell_type": "markdown",
   "id": "26b6bb82",
   "metadata": {},
   "source": [
    "### 1. Read the .csv file using Pandas. Take a look at the top few records."
   ]
  },
  {
   "cell_type": "code",
   "execution_count": 2,
   "id": "fd7dc9d2",
   "metadata": {},
   "outputs": [
    {
     "data": {
      "text/html": [
       "<div>\n",
       "<style scoped>\n",
       "    .dataframe tbody tr th:only-of-type {\n",
       "        vertical-align: middle;\n",
       "    }\n",
       "\n",
       "    .dataframe tbody tr th {\n",
       "        vertical-align: top;\n",
       "    }\n",
       "\n",
       "    .dataframe thead th {\n",
       "        text-align: right;\n",
       "    }\n",
       "</style>\n",
       "<table border=\"1\" class=\"dataframe\">\n",
       "  <thead>\n",
       "    <tr style=\"text-align: right;\">\n",
       "      <th></th>\n",
       "      <th>sentiment</th>\n",
       "      <th>review</th>\n",
       "    </tr>\n",
       "  </thead>\n",
       "  <tbody>\n",
       "    <tr>\n",
       "      <th>0</th>\n",
       "      <td>1</td>\n",
       "      <td>Good but need updates and improvements</td>\n",
       "    </tr>\n",
       "    <tr>\n",
       "      <th>1</th>\n",
       "      <td>0</td>\n",
       "      <td>Worst mobile i have bought ever, Battery is dr...</td>\n",
       "    </tr>\n",
       "    <tr>\n",
       "      <th>2</th>\n",
       "      <td>1</td>\n",
       "      <td>when I will get my 10% cash back.... its alrea...</td>\n",
       "    </tr>\n",
       "    <tr>\n",
       "      <th>3</th>\n",
       "      <td>1</td>\n",
       "      <td>Good</td>\n",
       "    </tr>\n",
       "    <tr>\n",
       "      <th>4</th>\n",
       "      <td>0</td>\n",
       "      <td>The worst phone everThey have changed the last...</td>\n",
       "    </tr>\n",
       "  </tbody>\n",
       "</table>\n",
       "</div>"
      ],
      "text/plain": [
       "   sentiment                                             review\n",
       "0          1             Good but need updates and improvements\n",
       "1          0  Worst mobile i have bought ever, Battery is dr...\n",
       "2          1  when I will get my 10% cash back.... its alrea...\n",
       "3          1                                               Good\n",
       "4          0  The worst phone everThey have changed the last..."
      ]
     },
     "execution_count": 2,
     "metadata": {},
     "output_type": "execute_result"
    }
   ],
   "source": [
    "df = pd.read_csv('K8 Reviews v0.2.csv')\n",
    "df.head()"
   ]
  },
  {
   "cell_type": "code",
   "execution_count": 3,
   "id": "dcfd9d9a",
   "metadata": {},
   "outputs": [
    {
     "data": {
      "text/plain": [
       "sentiment     int64\n",
       "review       object\n",
       "dtype: object"
      ]
     },
     "execution_count": 3,
     "metadata": {},
     "output_type": "execute_result"
    }
   ],
   "source": [
    "# data types\n",
    "df.dtypes"
   ]
  },
  {
   "cell_type": "code",
   "execution_count": 4,
   "id": "99545076",
   "metadata": {},
   "outputs": [
    {
     "data": {
      "text/plain": [
       "(14675, 2)"
      ]
     },
     "execution_count": 4,
     "metadata": {},
     "output_type": "execute_result"
    }
   ],
   "source": [
    "# size of dataset\n",
    "df.shape"
   ]
  },
  {
   "cell_type": "code",
   "execution_count": 5,
   "id": "d3a2898d",
   "metadata": {},
   "outputs": [
    {
     "data": {
      "text/plain": [
       "sentiment    0\n",
       "review       0\n",
       "dtype: int64"
      ]
     },
     "execution_count": 5,
     "metadata": {},
     "output_type": "execute_result"
    }
   ],
   "source": [
    "# check dataset for missing values\n",
    "df.isnull().sum()"
   ]
  },
  {
   "cell_type": "markdown",
   "id": "7ead644f",
   "metadata": {},
   "source": [
    "No missing values in the dataset."
   ]
  },
  {
   "cell_type": "markdown",
   "id": "f16ddb1a",
   "metadata": {},
   "source": [
    "### 2. Normalize casings for the review text and extract the text into a list for easier manipulation."
   ]
  },
  {
   "cell_type": "code",
   "execution_count": 6,
   "id": "f4c0de38",
   "metadata": {},
   "outputs": [
    {
     "data": {
      "text/html": [
       "<div>\n",
       "<style scoped>\n",
       "    .dataframe tbody tr th:only-of-type {\n",
       "        vertical-align: middle;\n",
       "    }\n",
       "\n",
       "    .dataframe tbody tr th {\n",
       "        vertical-align: top;\n",
       "    }\n",
       "\n",
       "    .dataframe thead th {\n",
       "        text-align: right;\n",
       "    }\n",
       "</style>\n",
       "<table border=\"1\" class=\"dataframe\">\n",
       "  <thead>\n",
       "    <tr style=\"text-align: right;\">\n",
       "      <th></th>\n",
       "      <th>sentiment</th>\n",
       "      <th>review</th>\n",
       "    </tr>\n",
       "  </thead>\n",
       "  <tbody>\n",
       "    <tr>\n",
       "      <th>0</th>\n",
       "      <td>1</td>\n",
       "      <td>good but need updates and improvements</td>\n",
       "    </tr>\n",
       "    <tr>\n",
       "      <th>1</th>\n",
       "      <td>0</td>\n",
       "      <td>worst mobile i have bought ever, battery is dr...</td>\n",
       "    </tr>\n",
       "    <tr>\n",
       "      <th>2</th>\n",
       "      <td>1</td>\n",
       "      <td>when i will get my 10% cash back.... its alrea...</td>\n",
       "    </tr>\n",
       "    <tr>\n",
       "      <th>3</th>\n",
       "      <td>1</td>\n",
       "      <td>good</td>\n",
       "    </tr>\n",
       "    <tr>\n",
       "      <th>4</th>\n",
       "      <td>0</td>\n",
       "      <td>the worst phone everthey have changed the last...</td>\n",
       "    </tr>\n",
       "    <tr>\n",
       "      <th>5</th>\n",
       "      <td>0</td>\n",
       "      <td>only i'm telling don't buyi'm totally disappoi...</td>\n",
       "    </tr>\n",
       "    <tr>\n",
       "      <th>6</th>\n",
       "      <td>1</td>\n",
       "      <td>phone is awesome. but while charging, it heats...</td>\n",
       "    </tr>\n",
       "    <tr>\n",
       "      <th>7</th>\n",
       "      <td>0</td>\n",
       "      <td>the battery level has worn down</td>\n",
       "    </tr>\n",
       "    <tr>\n",
       "      <th>8</th>\n",
       "      <td>0</td>\n",
       "      <td>it's over hitting problems...and phone hanging...</td>\n",
       "    </tr>\n",
       "    <tr>\n",
       "      <th>9</th>\n",
       "      <td>0</td>\n",
       "      <td>a lot of glitches dont buy this thing better g...</td>\n",
       "    </tr>\n",
       "  </tbody>\n",
       "</table>\n",
       "</div>"
      ],
      "text/plain": [
       "   sentiment                                             review\n",
       "0          1             good but need updates and improvements\n",
       "1          0  worst mobile i have bought ever, battery is dr...\n",
       "2          1  when i will get my 10% cash back.... its alrea...\n",
       "3          1                                               good\n",
       "4          0  the worst phone everthey have changed the last...\n",
       "5          0  only i'm telling don't buyi'm totally disappoi...\n",
       "6          1  phone is awesome. but while charging, it heats...\n",
       "7          0                    the battery level has worn down\n",
       "8          0  it's over hitting problems...and phone hanging...\n",
       "9          0  a lot of glitches dont buy this thing better g..."
      ]
     },
     "execution_count": 6,
     "metadata": {},
     "output_type": "execute_result"
    }
   ],
   "source": [
    "# convert review text to lower case\n",
    "df['review'] = df['review'].str.lower()\n",
    "df.head(10)"
   ]
  },
  {
   "cell_type": "code",
   "execution_count": null,
   "id": "aabcc029",
   "metadata": {},
   "outputs": [],
   "source": [
    "# extract review text into a list\n",
    "df_list = list(df['review'])\n",
    "df_list"
   ]
  },
  {
   "cell_type": "code",
   "execution_count": null,
   "id": "e36f4caa",
   "metadata": {},
   "outputs": [],
   "source": [
    "# remove emojis\n",
    "import emoji\n",
    "\n",
    "def remove_emoji(text):\n",
    "    return emoji.get_emoji_regexp().sub(r'', text)\n",
    "\n",
    "no_emoji_list = [remove_emoji(sentence) for sentence in df_list]\n",
    "no_emoji_list"
   ]
  },
  {
   "cell_type": "markdown",
   "id": "27d1e896",
   "metadata": {},
   "source": [
    "### 3. Tokenize the reviews using NLTKs word_tokenize function."
   ]
  },
  {
   "cell_type": "code",
   "execution_count": null,
   "id": "35c05487",
   "metadata": {},
   "outputs": [],
   "source": [
    "tokenized_reviews = [nltk.word_tokenize(sentence) for sentence in no_emoji_list]\n",
    "tokenized_reviews"
   ]
  },
  {
   "cell_type": "markdown",
   "id": "04e80cb7",
   "metadata": {},
   "source": [
    "### 4. Perform parts-of-speech tagging on each sentence using the NLTK POS tagger."
   ]
  },
  {
   "cell_type": "code",
   "execution_count": null,
   "id": "cc446dd3",
   "metadata": {},
   "outputs": [],
   "source": [
    "tagged_sentences = [nltk.pos_tag(sentence) for sentence in tokenized_reviews]\n",
    "tagged_sentences"
   ]
  },
  {
   "cell_type": "markdown",
   "id": "63edf9a2",
   "metadata": {},
   "source": [
    "### 5. For the topic model, we should want to include only nouns."
   ]
  },
  {
   "cell_type": "code",
   "execution_count": null,
   "id": "3603a3cb",
   "metadata": {},
   "outputs": [],
   "source": [
    "noun_list = [[word for word in sent if (word[1] == 'NN' or word[1] == 'NNS' or word[1] == 'NNP' or word[1] == 'NNPS')] \n",
    "       for sent in tagged_sentences]\n",
    "\n",
    "noun_list"
   ]
  },
  {
   "cell_type": "markdown",
   "id": "328ba679",
   "metadata": {},
   "source": [
    "### 6. Lemmatize."
   ]
  },
  {
   "cell_type": "code",
   "execution_count": null,
   "id": "a3587bba",
   "metadata": {},
   "outputs": [],
   "source": [
    "wnl = WordNetLemmatizer()\n",
    "\n",
    "lemma_list = [[wnl.lemmatize(word[0]) for word in sent] for sent in noun_list]\n",
    "\n",
    "lemma_list"
   ]
  },
  {
   "cell_type": "markdown",
   "id": "9de0beb2",
   "metadata": {},
   "source": [
    "### 7. Remove stopwords and punctuation (if there are any)."
   ]
  },
  {
   "cell_type": "code",
   "execution_count": null,
   "id": "f155ca59",
   "metadata": {},
   "outputs": [],
   "source": [
    "# English stopwords\n",
    "stopwords_en = stopwords.words('english')\n",
    "\n",
    "# add additional stopwords based on the data\n",
    "stopwords_en.extend(['mobile', 'phone', 'problem', 'issue', 'note', 'product', 'day', 'box', 'experience', 'month', \n",
    "                     'option', 'time'])\n",
    "stopwords_en = set(stopwords_en)\n",
    "\n",
    "# combine punctuations with stopwords\n",
    "stopwords_en_withpunct = stopwords_en.union(set(punctuation))\n",
    "\n",
    "# remove: stopwords with punctuations, all tokens that are not alphabetic, and all words that have less than 3 characters\n",
    "clean_list = [[word for word in sent if (word not in stopwords_en_withpunct) and (word.isalpha()) and (len(word) > 2)]\n",
    "               for sent in lemma_list]\n",
    "              \n",
    "clean_list   "
   ]
  },
  {
   "cell_type": "markdown",
   "id": "7e53d0d0",
   "metadata": {},
   "source": [
    "### 8. Create a topic model using LDA on the cleaned-up data with 12 topics."
   ]
  },
  {
   "cell_type": "code",
   "execution_count": 14,
   "id": "f86c018e",
   "metadata": {},
   "outputs": [],
   "source": [
    "# create a corpus from a list of texts\n",
    "# transform the documents to a vectorized form\n",
    "# Bag-of-words representation of the documents\n",
    "dictionary = Dictionary(clean_list)\n",
    "corpus = [dictionary.doc2bow(text) for text in clean_list]"
   ]
  },
  {
   "cell_type": "code",
   "execution_count": 15,
   "id": "e112c0c8",
   "metadata": {},
   "outputs": [],
   "source": [
    "# train the model on the corpus\n",
    "lda = models.ldamodel.LdaModel(corpus, id2word=dictionary, num_topics=12, chunksize=100, passes=10)"
   ]
  },
  {
   "cell_type": "markdown",
   "id": "2330f22d",
   "metadata": {},
   "source": [
    "#### 8.A Print out the top terms for each topic."
   ]
  },
  {
   "cell_type": "code",
   "execution_count": 16,
   "id": "c9b91091",
   "metadata": {},
   "outputs": [
    {
     "name": "stdout",
     "output_type": "stream",
     "text": [
      "(0, [('feature', 0.24322882), ('heating', 0.16471389), ('everything', 0.07270336), ('model', 0.040916547), ('headphone', 0.03558348)]) \n",
      "\n",
      "(1, [('performance', 0.16280702), ('charger', 0.07899474), ('waste', 0.05721072), ('turbo', 0.0433842), ('handset', 0.041374978)]) \n",
      "\n",
      "(2, [('price', 0.20818011), ('network', 0.13492903), ('range', 0.08370599), ('review', 0.038749248), ('card', 0.037778687)]) \n",
      "\n",
      "(3, [('lenovo', 0.1571492), ('charge', 0.061939955), ('sim', 0.059710395), ('hai', 0.046061322), ('game', 0.035799395)]) \n",
      "\n",
      "(4, [('battery', 0.29471016), ('update', 0.05396953), ('hour', 0.051154304), ('software', 0.04335487), ('life', 0.040314347)]) \n",
      "\n",
      "(5, [('screen', 0.08158129), ('processor', 0.055387765), ('display', 0.055002693), ('speaker', 0.052000154), ('music', 0.040605176)]) \n",
      "\n",
      "(6, [('money', 0.13709873), ('heat', 0.09322205), ('video', 0.0601744), ('lot', 0.059423015), ('value', 0.04740173)]) \n",
      "\n",
      "(7, [('amazon', 0.1455861), ('device', 0.12201087), ('mode', 0.09872138), ('usage', 0.06454679), ('depth', 0.051452193)]) \n",
      "\n",
      "(8, [('service', 0.1552462), ('customer', 0.07258435), ('center', 0.045371525), ('smartphone', 0.04228192), ('need', 0.038674727)]) \n",
      "\n",
      "(9, [('delivery', 0.13196856), ('superb', 0.10479772), ('clarity', 0.07344796), ('min', 0.06753197), ('front', 0.061157037)]) \n",
      "\n",
      "(10, [('camera', 0.41128606), ('quality', 0.16278698), ('sound', 0.039969742), ('bit', 0.02725189), ('budget', 0.022658065)]) \n",
      "\n",
      "(11, [('battery', 0.14503248), ('call', 0.13167535), ('backup', 0.12916248), ('please', 0.054702025), ('dolby', 0.046611845)]) \n",
      "\n"
     ]
    }
   ],
   "source": [
    "for topic in lda.show_topics(num_topics=12, num_words=5, formatted=False):\n",
    "    print(topic,'\\n')"
   ]
  },
  {
   "cell_type": "markdown",
   "id": "9c00320f",
   "metadata": {},
   "source": [
    "#### 8.B What is the coherence of the model with the c_v metric?"
   ]
  },
  {
   "cell_type": "code",
   "execution_count": 17,
   "id": "ce44f11c",
   "metadata": {},
   "outputs": [
    {
     "name": "stdout",
     "output_type": "stream",
     "text": [
      "Coherence: 0.3956522226664394\n"
     ]
    }
   ],
   "source": [
    "coherence_model_lda = CoherenceModel(model=lda, texts=clean_list, dictionary=dictionary, coherence='c_v')\n",
    "coherence_lda = coherence_model_lda.get_coherence()\n",
    "print('Coherence:', coherence_lda)"
   ]
  },
  {
   "cell_type": "markdown",
   "id": "b3c29f26",
   "metadata": {},
   "source": [
    "### 9. Analyze the topics through the business lens.\n",
    "\n",
    "Determine which of the topics can be combined."
   ]
  },
  {
   "cell_type": "markdown",
   "id": "1acc3967",
   "metadata": {},
   "source": [
    "Currently, the topics - based on the top terms - are:\n",
    "1. General\n",
    "2. Battery\n",
    "3. Price\n",
    "4. Service\n",
    "5. Battery\n",
    "6. Screen\n",
    "7. Price\n",
    "8. Service\n",
    "9. Service\n",
    "10. Service\n",
    "11. Camera\n",
    "12. Battery\n",
    "\n",
    "So, we can combine:\n",
    "- Topics 2 & 5 & 12\n",
    "- Topics 3 & 7\n",
    "- Topics 4 & 8 & 9 & 10\n",
    "\n",
    "A better output would be something like:\n",
    "1. Battery\n",
    "2. Price\n",
    "3. Service\n",
    "4. Screen\n",
    "5. Camera\n",
    "\n",
    "I think ~5 is the optimal number of topics."
   ]
  },
  {
   "cell_type": "markdown",
   "id": "c9fbba39",
   "metadata": {},
   "source": [
    "### 10. Create topic model using LDA with what you think is the optimal number of topics"
   ]
  },
  {
   "cell_type": "code",
   "execution_count": 18,
   "id": "3537a335",
   "metadata": {},
   "outputs": [],
   "source": [
    "# this function is for parameter tuning (parameter=number of topics)\n",
    "def parameter_tuning(corpus, dictionary, k):\n",
    "    lda_model = models.ldamodel.LdaModel(corpus=corpus,\n",
    "                                         id2word=dictionary,\n",
    "                                         num_topics=k, \n",
    "                                         random_state=1,\n",
    "                                         chunksize=100,\n",
    "                                         passes=10)\n",
    "    \n",
    "    coherence_model_lda = CoherenceModel(model=lda_model, texts=clean_list, dictionary=dictionary, coherence='c_v')\n",
    "    \n",
    "    return coherence_model_lda.get_coherence()"
   ]
  },
  {
   "cell_type": "code",
   "execution_count": 19,
   "id": "6fb05613",
   "metadata": {},
   "outputs": [
    {
     "data": {
      "text/html": [
       "<div>\n",
       "<style scoped>\n",
       "    .dataframe tbody tr th:only-of-type {\n",
       "        vertical-align: middle;\n",
       "    }\n",
       "\n",
       "    .dataframe tbody tr th {\n",
       "        vertical-align: top;\n",
       "    }\n",
       "\n",
       "    .dataframe thead th {\n",
       "        text-align: right;\n",
       "    }\n",
       "</style>\n",
       "<table border=\"1\" class=\"dataframe\">\n",
       "  <thead>\n",
       "    <tr style=\"text-align: right;\">\n",
       "      <th></th>\n",
       "      <th>Topics</th>\n",
       "      <th>Coherence</th>\n",
       "    </tr>\n",
       "  </thead>\n",
       "  <tbody>\n",
       "    <tr>\n",
       "      <th>0</th>\n",
       "      <td>3</td>\n",
       "      <td>0.530340</td>\n",
       "    </tr>\n",
       "    <tr>\n",
       "      <th>1</th>\n",
       "      <td>4</td>\n",
       "      <td>0.494726</td>\n",
       "    </tr>\n",
       "    <tr>\n",
       "      <th>2</th>\n",
       "      <td>5</td>\n",
       "      <td>0.457784</td>\n",
       "    </tr>\n",
       "    <tr>\n",
       "      <th>3</th>\n",
       "      <td>6</td>\n",
       "      <td>0.460135</td>\n",
       "    </tr>\n",
       "    <tr>\n",
       "      <th>4</th>\n",
       "      <td>7</td>\n",
       "      <td>0.440915</td>\n",
       "    </tr>\n",
       "    <tr>\n",
       "      <th>5</th>\n",
       "      <td>8</td>\n",
       "      <td>0.438901</td>\n",
       "    </tr>\n",
       "    <tr>\n",
       "      <th>6</th>\n",
       "      <td>9</td>\n",
       "      <td>0.450048</td>\n",
       "    </tr>\n",
       "    <tr>\n",
       "      <th>7</th>\n",
       "      <td>10</td>\n",
       "      <td>0.401571</td>\n",
       "    </tr>\n",
       "  </tbody>\n",
       "</table>\n",
       "</div>"
      ],
      "text/plain": [
       "   Topics  Coherence\n",
       "0       3   0.530340\n",
       "1       4   0.494726\n",
       "2       5   0.457784\n",
       "3       6   0.460135\n",
       "4       7   0.440915\n",
       "5       8   0.438901\n",
       "6       9   0.450048\n",
       "7      10   0.401571"
      ]
     },
     "execution_count": 19,
     "metadata": {},
     "output_type": "execute_result"
    }
   ],
   "source": [
    "# topics range\n",
    "min_topics = 3\n",
    "max_topics = 11\n",
    "step_size = 1\n",
    "topics_range = range(min_topics, max_topics, step_size)\n",
    "\n",
    "# build dictionary for topics and coherence\n",
    "model_results = {'Topics': [], 'Coherence': []}\n",
    "\n",
    "# iterate through number of topics anc compute coherence to find the best number of topics\n",
    "for k in topics_range:\n",
    "    # get the coherence\n",
    "    coherence = parameter_tuning(corpus=corpus, dictionary=dictionary, k=k)\n",
    "    # add results to our dictionary\n",
    "    model_results['Topics'].append(k)\n",
    "    model_results['Coherence'].append(coherence)\n",
    "\n",
    "# print results\n",
    "pd.DataFrame(model_results)"
   ]
  },
  {
   "cell_type": "markdown",
   "id": "3d8ef275",
   "metadata": {},
   "source": [
    "The best coherence score is for 3 topics, but I think that's too low for business interpretations. I will keep choosing 5 topics as optimal number."
   ]
  },
  {
   "cell_type": "code",
   "execution_count": 30,
   "id": "cf23e2f5",
   "metadata": {},
   "outputs": [],
   "source": [
    "# train the model on the corpus\n",
    "lda_mod = models.ldamodel.LdaModel(corpus, id2word=dictionary, num_topics=5, chunksize=100, passes=10)"
   ]
  },
  {
   "cell_type": "code",
   "execution_count": 31,
   "id": "75a7318e",
   "metadata": {},
   "outputs": [
    {
     "name": "stdout",
     "output_type": "stream",
     "text": [
      "(0, [('battery', 0.19497578), ('performance', 0.054742206), ('backup', 0.032805193), ('device', 0.03046186), ('heat', 0.027017077)]) \n",
      "\n",
      "(1, [('heating', 0.05501778), ('network', 0.05380345), ('update', 0.04042241), ('software', 0.032474056), ('superb', 0.021100897)]) \n",
      "\n",
      "(2, [('camera', 0.22879432), ('quality', 0.09056122), ('price', 0.060603615), ('screen', 0.03556442), ('display', 0.023980623)]) \n",
      "\n",
      "(3, [('feature', 0.067548044), ('money', 0.04609829), ('amazon', 0.042172596), ('lenovo', 0.040639285), ('service', 0.03651178)]) \n",
      "\n",
      "(4, [('call', 0.04564232), ('processor', 0.03234879), ('speaker', 0.030371679), ('sound', 0.02979413), ('everything', 0.023756728)]) \n",
      "\n"
     ]
    }
   ],
   "source": [
    "# print top terms for each topic\n",
    "for topic in lda_mod.show_topics(num_topics=5, num_words=5, formatted=False):\n",
    "    print(topic,'\\n')"
   ]
  },
  {
   "cell_type": "markdown",
   "id": "91a260e7",
   "metadata": {},
   "source": [
    "#### 10.A What is the coherence of the model?"
   ]
  },
  {
   "cell_type": "code",
   "execution_count": 32,
   "id": "77a984d8",
   "metadata": {},
   "outputs": [
    {
     "name": "stdout",
     "output_type": "stream",
     "text": [
      "Coherence: 0.4923424136157353\n"
     ]
    }
   ],
   "source": [
    "coherence_model_lda_mod = CoherenceModel(model=lda_mod, texts=clean_list, dictionary=dictionary, coherence='c_v')\n",
    "coherence_lda_mod = coherence_model_lda_mod.get_coherence()\n",
    "print('Coherence:', coherence_lda_mod)"
   ]
  },
  {
   "cell_type": "markdown",
   "id": "beed98b6",
   "metadata": {},
   "source": [
    "The second model using 5 topics has a better coherence value than the model using 12 topics."
   ]
  },
  {
   "cell_type": "markdown",
   "id": "dad1edba",
   "metadata": {},
   "source": [
    "### 11. The business should be able to interpret the topics."
   ]
  },
  {
   "cell_type": "markdown",
   "id": "9ba33294",
   "metadata": {},
   "source": [
    "#### 11.A Name each of the identified topics."
   ]
  },
  {
   "cell_type": "markdown",
   "id": "85941cae",
   "metadata": {},
   "source": [
    "1. Battery\n",
    "2. Network/Software\n",
    "3. Camera\n",
    "4. Service\n",
    "5. General"
   ]
  },
  {
   "cell_type": "markdown",
   "id": "6049bec5",
   "metadata": {},
   "source": [
    "#### 11.B Create a table with the topic name and the top 10 terms in each to present to the business."
   ]
  },
  {
   "cell_type": "code",
   "execution_count": 35,
   "id": "efb2f2ac",
   "metadata": {},
   "outputs": [],
   "source": [
    "topic_names = ['Battery', 'Network/Software', 'Camera', 'Service', 'General']"
   ]
  },
  {
   "cell_type": "code",
   "execution_count": 36,
   "id": "46c4139f",
   "metadata": {},
   "outputs": [],
   "source": [
    "my_dict = {'Topic_' + str(i): [token for token, score in lda_mod.show_topic(i, topn=10)] for i in range(0, lda_mod.num_topics)}"
   ]
  },
  {
   "cell_type": "code",
   "execution_count": 37,
   "id": "b127db64",
   "metadata": {},
   "outputs": [
    {
     "data": {
      "text/html": [
       "<div>\n",
       "<style scoped>\n",
       "    .dataframe tbody tr th:only-of-type {\n",
       "        vertical-align: middle;\n",
       "    }\n",
       "\n",
       "    .dataframe tbody tr th {\n",
       "        vertical-align: top;\n",
       "    }\n",
       "\n",
       "    .dataframe thead th {\n",
       "        text-align: right;\n",
       "    }\n",
       "</style>\n",
       "<table border=\"1\" class=\"dataframe\">\n",
       "  <thead>\n",
       "    <tr style=\"text-align: right;\">\n",
       "      <th></th>\n",
       "      <th>Battery</th>\n",
       "      <th>Network/Software</th>\n",
       "      <th>Camera</th>\n",
       "      <th>Service</th>\n",
       "      <th>General</th>\n",
       "    </tr>\n",
       "  </thead>\n",
       "  <tbody>\n",
       "    <tr>\n",
       "      <th>0</th>\n",
       "      <td>battery</td>\n",
       "      <td>heating</td>\n",
       "      <td>camera</td>\n",
       "      <td>feature</td>\n",
       "      <td>call</td>\n",
       "    </tr>\n",
       "    <tr>\n",
       "      <th>1</th>\n",
       "      <td>performance</td>\n",
       "      <td>network</td>\n",
       "      <td>quality</td>\n",
       "      <td>money</td>\n",
       "      <td>processor</td>\n",
       "    </tr>\n",
       "    <tr>\n",
       "      <th>2</th>\n",
       "      <td>backup</td>\n",
       "      <td>update</td>\n",
       "      <td>price</td>\n",
       "      <td>amazon</td>\n",
       "      <td>speaker</td>\n",
       "    </tr>\n",
       "    <tr>\n",
       "      <th>3</th>\n",
       "      <td>device</td>\n",
       "      <td>software</td>\n",
       "      <td>screen</td>\n",
       "      <td>lenovo</td>\n",
       "      <td>sound</td>\n",
       "    </tr>\n",
       "    <tr>\n",
       "      <th>4</th>\n",
       "      <td>heat</td>\n",
       "      <td>superb</td>\n",
       "      <td>display</td>\n",
       "      <td>service</td>\n",
       "      <td>everything</td>\n",
       "    </tr>\n",
       "    <tr>\n",
       "      <th>5</th>\n",
       "      <td>mode</td>\n",
       "      <td>bit</td>\n",
       "      <td>speed</td>\n",
       "      <td>charger</td>\n",
       "      <td>music</td>\n",
       "    </tr>\n",
       "    <tr>\n",
       "      <th>6</th>\n",
       "      <td>range</td>\n",
       "      <td>value</td>\n",
       "      <td>video</td>\n",
       "      <td>charge</td>\n",
       "      <td>app</td>\n",
       "    </tr>\n",
       "    <tr>\n",
       "      <th>7</th>\n",
       "      <td>hour</td>\n",
       "      <td>budget</td>\n",
       "      <td>charging</td>\n",
       "      <td>waste</td>\n",
       "      <td>customer</td>\n",
       "    </tr>\n",
       "    <tr>\n",
       "      <th>8</th>\n",
       "      <td>life</td>\n",
       "      <td>game</td>\n",
       "      <td>glass</td>\n",
       "      <td>delivery</td>\n",
       "      <td>ram</td>\n",
       "    </tr>\n",
       "    <tr>\n",
       "      <th>9</th>\n",
       "      <td>sim</td>\n",
       "      <td>photo</td>\n",
       "      <td>android</td>\n",
       "      <td>hai</td>\n",
       "      <td>support</td>\n",
       "    </tr>\n",
       "  </tbody>\n",
       "</table>\n",
       "</div>"
      ],
      "text/plain": [
       "       Battery Network/Software    Camera   Service     General\n",
       "0      battery          heating    camera   feature        call\n",
       "1  performance          network   quality     money   processor\n",
       "2       backup           update     price    amazon     speaker\n",
       "3       device         software    screen    lenovo       sound\n",
       "4         heat           superb   display   service  everything\n",
       "5         mode              bit     speed   charger       music\n",
       "6        range            value     video    charge         app\n",
       "7         hour           budget  charging     waste    customer\n",
       "8         life             game     glass  delivery         ram\n",
       "9          sim            photo   android       hai     support"
      ]
     },
     "execution_count": 37,
     "metadata": {},
     "output_type": "execute_result"
    }
   ],
   "source": [
    "topics_df = pd.DataFrame(my_dict)\n",
    "topics_df.columns = topic_names\n",
    "topics_df"
   ]
  },
  {
   "cell_type": "code",
   "execution_count": null,
   "id": "0b77e4bc",
   "metadata": {},
   "outputs": [],
   "source": []
  }
 ],
 "metadata": {
  "kernelspec": {
   "display_name": "Python 3 (ipykernel)",
   "language": "python",
   "name": "python3"
  },
  "language_info": {
   "codemirror_mode": {
    "name": "ipython",
    "version": 3
   },
   "file_extension": ".py",
   "mimetype": "text/x-python",
   "name": "python",
   "nbconvert_exporter": "python",
   "pygments_lexer": "ipython3",
   "version": "3.8.12"
  }
 },
 "nbformat": 4,
 "nbformat_minor": 5
}
